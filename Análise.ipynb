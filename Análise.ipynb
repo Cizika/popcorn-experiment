{
 "cells": [
  {
   "cell_type": "markdown",
   "metadata": {},
   "source": [
    "# Experimento Marcas de Pipoca\n",
    "## Projeto da disciplina **SME0810 - Métodos Não Paramétricos**"
   ]
  },
  {
   "cell_type": "markdown",
   "metadata": {},
   "source": [
    "## Membros\n",
    "\n",
    "* Alexandre Eduardo de Souza Jesus - alexandre_souza@usp.br - 12559506\n",
    "\n",
    "* Gustavo Silva de Oliveira - gustavo.oliveira03@usp.br - 12567231\n",
    "\n",
    "* Lucas Ivars Cadima Ciziks - luciziks@usp.br - 125599472\n",
    "\n",
    "* Pedro Henrique de Freitas Maçonetto - pedromaconetto@usp.br - 12675419\n",
    "\n",
    "* Paloma"
   ]
  },
  {
   "cell_type": "markdown",
   "metadata": {},
   "source": [
    "## Introdução"
   ]
  },
  {
   "cell_type": "markdown",
   "metadata": {},
   "source": [
    "Considere quatro diferentes marcas de milho de pipoca. Selecione 5 amostras de cada marca\n",
    "com 100 grãos de milho. Enumere as amostras de 1 até 20 e faça um sorteio aleatório de\n",
    "cada amostra para a ordem do cozimento. Utilize como ingrediente 1 colher de sopa de óleo\n",
    "de cozinhar. Colocar o óleo na panela, ligar o fogo baixo (temperatura mínima) e esperar\n",
    "1 minuto. Após esse tempo, é hora de retirar a panela do fogo e são então colocar o milho.\n",
    "Misture rapidinho o milho no óleo, de maneira que todos fiquem engordurados e espere por\n",
    "30 segundos com todo o milho na panela e fora do fogo para só então levar a panela de volta\n",
    "para o fogão, mexendo um pouco e deixando a tampa um pouquinho aberta. Considere um\n",
    "tempo de cozimento fixo para todas as amostras, o suficiente para estourar o máximo de\n",
    "grãos. Ao terminar cada amostra conte o número de grãos de milho que não estouraram de\n",
    "forma satisfatória, em seguida lave bem a panela com água fria e repita o experimento para a\n",
    "próxima amostra sorteada. Monte uma tabela com o número de grãos que não estouraram em\n",
    "cada amostra com cada marca. Responda se há diferençaa no número médio de grãos que não\n",
    "estouraram para as diferentes marcas. Considere o nível de significância de $\\alpha = 5\\%$."
   ]
  },
  {
   "cell_type": "markdown",
   "metadata": {},
   "source": [
    "## Metodologia"
   ]
  },
  {
   "cell_type": "markdown",
   "metadata": {},
   "source": [
    "## Desenvolvimento"
   ]
  },
  {
   "cell_type": "code",
   "execution_count": 1,
   "metadata": {},
   "outputs": [],
   "source": [
    "import pandas as pd\n",
    "import numpy as np"
   ]
  },
  {
   "cell_type": "code",
   "execution_count": 11,
   "metadata": {},
   "outputs": [
    {
     "data": {
      "text/html": [
       "<div>\n",
       "<style scoped>\n",
       "    .dataframe tbody tr th:only-of-type {\n",
       "        vertical-align: middle;\n",
       "    }\n",
       "\n",
       "    .dataframe tbody tr th {\n",
       "        vertical-align: top;\n",
       "    }\n",
       "\n",
       "    .dataframe thead th {\n",
       "        text-align: right;\n",
       "    }\n",
       "</style>\n",
       "<table border=\"1\" class=\"dataframe\">\n",
       "  <thead>\n",
       "    <tr style=\"text-align: right;\">\n",
       "      <th></th>\n",
       "      <th># Pipocas Nao Estouradas</th>\n",
       "      <th>Marca</th>\n",
       "    </tr>\n",
       "    <tr>\n",
       "      <th>Amostra</th>\n",
       "      <th></th>\n",
       "      <th></th>\n",
       "    </tr>\n",
       "  </thead>\n",
       "  <tbody>\n",
       "    <tr>\n",
       "      <th>1</th>\n",
       "      <td>27</td>\n",
       "      <td>Yoki Premium</td>\n",
       "    </tr>\n",
       "    <tr>\n",
       "      <th>2</th>\n",
       "      <td>72</td>\n",
       "      <td>Yoki Premium</td>\n",
       "    </tr>\n",
       "    <tr>\n",
       "      <th>3</th>\n",
       "      <td>10</td>\n",
       "      <td>Yoki Premium</td>\n",
       "    </tr>\n",
       "    <tr>\n",
       "      <th>4</th>\n",
       "      <td>48</td>\n",
       "      <td>Yoki Premium</td>\n",
       "    </tr>\n",
       "    <tr>\n",
       "      <th>5</th>\n",
       "      <td>17</td>\n",
       "      <td>Yoki Premium</td>\n",
       "    </tr>\n",
       "  </tbody>\n",
       "</table>\n",
       "</div>"
      ],
      "text/plain": [
       "         # Pipocas Nao Estouradas         Marca\n",
       "Amostra                                        \n",
       "1                              27  Yoki Premium\n",
       "2                              72  Yoki Premium\n",
       "3                              10  Yoki Premium\n",
       "4                              48  Yoki Premium\n",
       "5                              17  Yoki Premium"
      ]
     },
     "execution_count": 11,
     "metadata": {},
     "output_type": "execute_result"
    }
   ],
   "source": [
    "experiment_data = pd.read_csv(\"Experimento.csv\", encoding=\"utf-8\", delimiter=\";\", index_col=0)\n",
    "experiment_data.head()"
   ]
  },
  {
   "cell_type": "markdown",
   "metadata": {},
   "source": [
    "## Conclusão"
   ]
  }
 ],
 "metadata": {
  "kernelspec": {
   "display_name": "Python 3.10.7 64-bit",
   "language": "python",
   "name": "python3"
  },
  "language_info": {
   "codemirror_mode": {
    "name": "ipython",
    "version": 3
   },
   "file_extension": ".py",
   "mimetype": "text/x-python",
   "name": "python",
   "nbconvert_exporter": "python",
   "pygments_lexer": "ipython3",
   "version": "3.10.7"
  },
  "orig_nbformat": 4,
  "vscode": {
   "interpreter": {
    "hash": "8c2e15034f07720a3e57266749b805dbe4b964ae6e11e3a0ca2f3b08408e10de"
   }
  }
 },
 "nbformat": 4,
 "nbformat_minor": 2
}
